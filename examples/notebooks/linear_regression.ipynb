{
 "cells": [
  {
   "cell_type": "code",
   "execution_count": null,
   "id": "bc399bb0-abb4-4cb5-80e5-600f13f7cb37",
   "metadata": {
    "scrolled": true
   },
   "outputs": [],
   "source": [
    "# Install required Python libraries\n",
    "try:\n",
    "    import subprocess\n",
    "    subprocess.check_call([\"pip\", \"install\", \"torch\", \"onnx\", \"numpy\", \"hummingbird-ml\"])\n",
    "except:\n",
    "    print(\"Ensure all dependencies are installed.\")\n",
    "\n",
    "from sklearn.linear_model import LinearRegression\n",
    "from hummingbird.ml import convert\n",
    "import numpy as np\n",
    "import json"
   ]
  },
  {
   "cell_type": "code",
   "execution_count": null,
   "id": "38bbdc16-6187-4be3-b76c-b1802326c7a4",
   "metadata": {},
   "outputs": [],
   "source": [
    "# Create sample data\n",
    "X = np.array([[1, 2], [2, 3], [3, 4], [4, 5]])  # Input features\n",
    "y = np.dot(X, np.array([1, 2])) + 3  # Target output: y = 1*x1 + 2*x2 + 3\n",
    "\n",
    "# Train a simple linear regression model\n",
    "reg_model = LinearRegression().fit(X, y)\n",
    "print(f\"Model score: {reg_model.score(X, y)}\")\n",
    "\n",
    "# Convert the trained model to ONNX format\n",
    "onnx_model = convert(reg_model, \"torch\", X[:1]).model\n",
    "onnx_path = \"linear_regression.onnx\"\n",
    "\n",
    "# Export ONNX model\n",
    "import torch\n",
    "dummy_input = torch.randn(1, X.shape[1])\n",
    "torch.onnx.export(\n",
    "    onnx_model, dummy_input, onnx_path,\n",
    "    input_names=[\"input\"], output_names=[\"output\"],\n",
    "    opset_version=13\n",
    ")\n",
    "print(f\"ONNX model exported to {onnx_path}\")\n"
   ]
  },
  {
   "cell_type": "code",
   "execution_count": null,
   "id": "7eab9dd6-951d-405e-a0d9-678556b142aa",
   "metadata": {},
   "outputs": [],
   "source": [
    "# Prepare input data for proof generation\n",
    "data_path = \"input.json\"\n",
    "sample_input = X[:1]  # Use one sample from the dataset\n",
    "input_data = sample_input.flatten().tolist()  # Flatten for JSON serialization\n",
    "\n",
    "# Save the input data to a JSON file\n",
    "data = [input_data]  # Wrap in outer array [[]]\n",
    "with open(data_path, \"w\") as f:\n",
    "    json.dump(data, f, indent=4)\n",
    "print(f\"Input data saved to {data_path}\")\n"
   ]
  },
  {
   "cell_type": "code",
   "execution_count": null,
   "id": "ca8615a3-59db-4dc0-9939-fb4c43cebe88",
   "metadata": {},
   "outputs": [],
   "source": [
    "import subprocess\n",
    "\n",
    "# Paths for CLI commands\n",
    "proof_path = \"proof.json\"\n",
    "\n",
    "# Command for proof generation\n",
    "# Make sure to generate the binary first: `cargo build --release`\n",
    "cmd = [\n",
    "    \"../../target/release/mina-zkml-cli\", \"proof\",\n",
    "    \"-m\", onnx_path,\n",
    "    \"-i\", data_path,\n",
    "    \"-o\", proof_path,\n",
    "    \"--input-visibility\", \"public\",\n",
    "    \"--output-visibility\", \"public\"\n",
    "]\n",
    "\n",
    "# Run the CLI command\n",
    "result = subprocess.run(cmd, stdout=subprocess.PIPE, stderr=subprocess.PIPE, text=True)\n",
    "print(result.stdout)\n",
    "if result.returncode == 0:\n",
    "    print(f\"Proof successfully generated at {proof_path}\")\n",
    "else:\n",
    "    print(f\"Error generating proof: {result.stderr}\")\n"
   ]
  },
  {
   "cell_type": "code",
   "execution_count": null,
   "id": "269df498-6cab-4356-b664-cb6a63ff1f20",
   "metadata": {},
   "outputs": [],
   "source": [
    "# Extract the \"output\" field from proof.json\n",
    "output_path = \"output.json\"\n",
    "try:\n",
    "    with open(proof_path, \"r\") as proof_file:\n",
    "        proof_data = json.load(proof_file)\n",
    "    if \"output\" in proof_data:\n",
    "        output_data = proof_data[\"output\"]\n",
    "        with open(output_path, \"w\") as output_file:\n",
    "            json.dump(output_data, output_file, indent=4)\n",
    "        print(f\"Output data successfully saved to {output_path}\")\n",
    "    else:\n",
    "        print(\"No 'output' field found in proof.json\")\n",
    "except Exception as e:\n",
    "    print(f\"An error occurred: {e}\")\n"
   ]
  },
  {
   "cell_type": "code",
   "execution_count": null,
   "id": "57ce4409-884c-434e-8d66-0adbf7f17d06",
   "metadata": {},
   "outputs": [],
   "source": [
    "# Create a public output file from the proof\n",
    "try:\n",
    "    # Load proof.json\n",
    "    with open(proof_path, \"r\") as proof_file:\n",
    "        proof_data = json.load(proof_file)\n",
    "\n",
    "    # Extract the \"output\" field\n",
    "    if \"output\" in proof_data:\n",
    "        output_data = proof_data[\"output\"]\n",
    "        \n",
    "        # Save the output data to output.json\n",
    "        with open(output_path, \"w\") as output_file:\n",
    "            json.dump(output_data, output_file, indent=4)\n",
    "        \n",
    "        print(f\"Output data successfully saved to {output_path}\")\n",
    "    else:\n",
    "        print(\"No 'output' field found in proof.json\")\n",
    "except Exception as e:\n",
    "    print(f\"An error occurred: {e}\")"
   ]
  },
  {
   "cell_type": "code",
   "execution_count": null,
   "id": "35d4244b-210e-4bb2-ada0-8d212cf303d6",
   "metadata": {},
   "outputs": [],
   "source": [
    "# Command for proof verification\n",
    "cmd = [\n",
    "    \"../../target/release/mina-zkml-cli\", \"verify\",\n",
    "    \"-m\", onnx_path,\n",
    "    \"-i\", data_path,\n",
    "    \"-p\", proof_path,\n",
    "    \"-o\", output_path,\n",
    "    \"--input-visibility\", \"public\",\n",
    "    \"--output-visibility\", \"public\"\n",
    "]\n",
    "\n",
    "# Run the CLI command\n",
    "result = subprocess.run(cmd, stdout=subprocess.PIPE, stderr=subprocess.PIPE, text=True)\n",
    "print(result.stdout)\n",
    "if result.returncode == 0:\n",
    "    print(f\"Proof successfully verified at {proof_path}\")\n",
    "else:\n",
    "    print(f\"Error verifying proof: {result.stderr}\")\n"
   ]
  },
  {
   "cell_type": "code",
   "execution_count": null,
   "id": "ed705083-130a-4f72-be8a-be4cae622d86",
   "metadata": {},
   "outputs": [],
   "source": []
  }
 ],
 "metadata": {
  "kernelspec": {
   "display_name": "Python 3 (ipykernel)",
   "language": "python",
   "name": "python3"
  },
  "language_info": {
   "codemirror_mode": {
    "name": "ipython",
    "version": 3
   },
   "file_extension": ".py",
   "mimetype": "text/x-python",
   "name": "python",
   "nbconvert_exporter": "python",
   "pygments_lexer": "ipython3",
   "version": "3.12.1"
  }
 },
 "nbformat": 4,
 "nbformat_minor": 5
}
