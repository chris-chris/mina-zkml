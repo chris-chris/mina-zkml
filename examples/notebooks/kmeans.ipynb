{
 "cells": [
  {
   "cell_type": "code",
   "execution_count": 4,
   "id": "bc399bb0-abb4-4cb5-80e5-600f13f7cb37",
   "metadata": {
    "scrolled": true
   },
   "outputs": [
    {
     "name": "stdout",
     "output_type": "stream",
     "text": [
      "Requirement already satisfied: torch in /Library/Frameworks/Python.framework/Versions/3.12/lib/python3.12/site-packages (2.5.1)\n",
      "Requirement already satisfied: onnx in /Library/Frameworks/Python.framework/Versions/3.12/lib/python3.12/site-packages (1.16.1)\n",
      "Requirement already satisfied: numpy in /Library/Frameworks/Python.framework/Versions/3.12/lib/python3.12/site-packages (1.26.3)\n",
      "Requirement already satisfied: hummingbird-ml in /Library/Frameworks/Python.framework/Versions/3.12/lib/python3.12/site-packages (0.4.12)\n",
      "Requirement already satisfied: filelock in /Library/Frameworks/Python.framework/Versions/3.12/lib/python3.12/site-packages (from torch) (3.16.1)\n",
      "Requirement already satisfied: typing-extensions>=4.8.0 in /Library/Frameworks/Python.framework/Versions/3.12/lib/python3.12/site-packages (from torch) (4.12.2)\n",
      "Requirement already satisfied: networkx in /Library/Frameworks/Python.framework/Versions/3.12/lib/python3.12/site-packages (from torch) (3.4.2)\n",
      "Requirement already satisfied: jinja2 in /Library/Frameworks/Python.framework/Versions/3.12/lib/python3.12/site-packages (from torch) (3.1.5)\n",
      "Requirement already satisfied: fsspec in /Library/Frameworks/Python.framework/Versions/3.12/lib/python3.12/site-packages (from torch) (2024.12.0)\n",
      "Requirement already satisfied: setuptools in /Library/Frameworks/Python.framework/Versions/3.12/lib/python3.12/site-packages (from torch) (69.0.3)\n",
      "Requirement already satisfied: sympy==1.13.1 in /Library/Frameworks/Python.framework/Versions/3.12/lib/python3.12/site-packages (from torch) (1.13.1)\n",
      "Requirement already satisfied: mpmath<1.4,>=1.1.0 in /Library/Frameworks/Python.framework/Versions/3.12/lib/python3.12/site-packages (from sympy==1.13.1->torch) (1.3.0)\n",
      "Requirement already satisfied: protobuf>=3.20.2 in /Library/Frameworks/Python.framework/Versions/3.12/lib/python3.12/site-packages (from onnx) (3.20.2)\n",
      "Requirement already satisfied: onnxconverter-common>=1.6.0 in /Library/Frameworks/Python.framework/Versions/3.12/lib/python3.12/site-packages (from hummingbird-ml) (1.14.0)\n",
      "Requirement already satisfied: scipy in /Library/Frameworks/Python.framework/Versions/3.12/lib/python3.12/site-packages (from hummingbird-ml) (1.14.1)\n",
      "Requirement already satisfied: scikit-learn in /Library/Frameworks/Python.framework/Versions/3.12/lib/python3.12/site-packages (from hummingbird-ml) (1.6.0)\n",
      "Requirement already satisfied: psutil in /Library/Frameworks/Python.framework/Versions/3.12/lib/python3.12/site-packages (from hummingbird-ml) (6.1.1)\n",
      "Requirement already satisfied: dill in /Library/Frameworks/Python.framework/Versions/3.12/lib/python3.12/site-packages (from hummingbird-ml) (0.3.9)\n",
      "Requirement already satisfied: packaging in /Library/Frameworks/Python.framework/Versions/3.12/lib/python3.12/site-packages (from onnxconverter-common>=1.6.0->hummingbird-ml) (24.2)\n",
      "Requirement already satisfied: MarkupSafe>=2.0 in /Library/Frameworks/Python.framework/Versions/3.12/lib/python3.12/site-packages (from jinja2->torch) (3.0.2)\n",
      "Requirement already satisfied: joblib>=1.2.0 in /Library/Frameworks/Python.framework/Versions/3.12/lib/python3.12/site-packages (from scikit-learn->hummingbird-ml) (1.4.2)\n",
      "Requirement already satisfied: threadpoolctl>=3.1.0 in /Library/Frameworks/Python.framework/Versions/3.12/lib/python3.12/site-packages (from scikit-learn->hummingbird-ml) (3.5.0)\n"
     ]
    }
   ],
   "source": [
    "# Install required Python libraries\n",
    "try:\n",
    "    import subprocess\n",
    "    subprocess.check_call([\"pip\", \"install\", \"torch\", \"onnx\", \"numpy\", \"hummingbird-ml\"])\n",
    "except:\n",
    "    print(\"Ensure all dependencies are installed.\")\n",
    "\n",
    "from sklearn.cluster import KMeans\n",
    "from hummingbird.ml import convert\n",
    "import numpy as np\n",
    "import json\n",
    "import torch"
   ]
  },
  {
   "cell_type": "code",
   "execution_count": 7,
   "id": "38bbdc16-6187-4be3-b76c-b1802326c7a4",
   "metadata": {},
   "outputs": [
    {
     "name": "stdout",
     "output_type": "stream",
     "text": [
      "ONNX model exported to kmeans.onnx\n"
     ]
    }
   ],
   "source": [
    "# Create a dataset of two Gaussians. There will be some overlap\n",
    "# between the two classes, which adds some uncertainty to the model.\n",
    "xs = np.concatenate(\n",
    "    [\n",
    "        np.random.random(size=(256, 2)) + [1, 0],\n",
    "        np.random.random(size=(256, 2)) + [-1, 0],\n",
    "    ],\n",
    "    axis=0,\n",
    ")\n",
    "\n",
    "# Train an SVM on the data and wrap it in PyTorch.\n",
    "sk_model = KMeans()\n",
    "sk_model.fit(xs)\n",
    "\n",
    "# Convert the trained model to ONNX format\n",
    "onnx_model = convert(sk_model, backend=\"pytorch\").model\n",
    "onnx_path = \"kmeans.onnx\"\n",
    "\n",
    "# Input to the model\n",
    "spaced = np.linspace(-2, 2, num=25)\n",
    "grid_xs = torch.tensor([[x, y] for x in spaced for y in spaced], requires_grad=True)\n",
    "shape = xs.shape[1:]\n",
    "model_input = grid_xs[0:1]\n",
    "\n",
    "# Export ONNX model\n",
    "torch.onnx.export(\n",
    "    onnx_model, model_input, onnx_path,\n",
    "    input_names=[\"input\"], output_names=[\"output\"],\n",
    "    opset_version=13\n",
    ")\n",
    "print(f\"ONNX model exported to {onnx_path}\")\n"
   ]
  },
  {
   "cell_type": "code",
   "execution_count": 16,
   "id": "7eab9dd6-951d-405e-a0d9-678556b142aa",
   "metadata": {},
   "outputs": [],
   "source": [
    "# Prepare input data for proof generation\n",
    "data_path = \"input.json\"\n",
    "d = ((model_input).detach().numpy()).reshape([-1]).tolist()\n",
    "\n",
    "torch_out = model(model_input)\n",
    "data = dict(input_shapes=[shape],\n",
    "            input_data=[d],\n",
    "            output_data=[o.reshape([-1]).tolist() for o in torch_out])\n",
    "\n",
    "# Serialize data into file:\n",
    "json.dump(data, open(data_path, 'w'))\n",
    "\n",
    "\n",
    "# sample_input = X[:1]  # Use one sample from the dataset\n",
    "# input_data = sample_input.flatten().tolist()  # Flatten for JSON serialization\n",
    "\n",
    "# # Save the input data to a JSON file\n",
    "# data = [input_data]  # Wrap in outer array [[]]\n",
    "# with open(data_path, \"w\") as f:\n",
    "#     json.dump(data, f, indent=4)\n",
    "# print(f\"Input data saved to {data_path}\")\n"
   ]
  },
  {
   "cell_type": "code",
   "execution_count": 13,
   "id": "ca8615a3-59db-4dc0-9939-fb4c43cebe88",
   "metadata": {},
   "outputs": [
    {
     "name": "stdout",
     "output_type": "stream",
     "text": [
      "\n",
      "Error generating proof: Error: Input JSON must be an array of arrays\n",
      "\n"
     ]
    }
   ],
   "source": [
    "import subprocess\n",
    "\n",
    "# Paths for CLI commands\n",
    "proof_path = \"proof.json\"\n",
    "\n",
    "# Command for proof generation\n",
    "# Make sure to generate the binary first: `cargo build --release`\n",
    "cmd = [\n",
    "    \"../../target/release/mina-zkml-cli\", \"proof\",\n",
    "    \"-m\", onnx_path,\n",
    "    \"-i\", data_path,\n",
    "    \"-o\", proof_path,\n",
    "    \"--input-visibility\", \"public\",\n",
    "    \"--output-visibility\", \"public\"\n",
    "]\n",
    "\n",
    "# Run the CLI command\n",
    "result = subprocess.run(cmd, stdout=subprocess.PIPE, stderr=subprocess.PIPE, text=True)\n",
    "print(result.stdout)\n",
    "if result.returncode == 0:\n",
    "    print(f\"Proof successfully generated at {proof_path}\")\n",
    "else:\n",
    "    print(f\"Error generating proof: {result.stderr}\")\n"
   ]
  },
  {
   "cell_type": "code",
   "execution_count": null,
   "id": "269df498-6cab-4356-b664-cb6a63ff1f20",
   "metadata": {},
   "outputs": [],
   "source": [
    "# Extract the \"output\" field from proof.json\n",
    "output_path = \"output.json\"\n",
    "try:\n",
    "    with open(proof_path, \"r\") as proof_file:\n",
    "        proof_data = json.load(proof_file)\n",
    "    if \"output\" in proof_data:\n",
    "        output_data = proof_data[\"output\"]\n",
    "        with open(output_path, \"w\") as output_file:\n",
    "            json.dump(output_data, output_file, indent=4)\n",
    "        print(f\"Output data successfully saved to {output_path}\")\n",
    "    else:\n",
    "        print(\"No 'output' field found in proof.json\")\n",
    "except Exception as e:\n",
    "    print(f\"An error occurred: {e}\")\n"
   ]
  },
  {
   "cell_type": "code",
   "execution_count": null,
   "id": "57ce4409-884c-434e-8d66-0adbf7f17d06",
   "metadata": {},
   "outputs": [],
   "source": [
    "# Create a public output file from the proof\n",
    "try:\n",
    "    # Load proof.json\n",
    "    with open(proof_path, \"r\") as proof_file:\n",
    "        proof_data = json.load(proof_file)\n",
    "\n",
    "    # Extract the \"output\" field\n",
    "    if \"output\" in proof_data:\n",
    "        output_data = proof_data[\"output\"]\n",
    "        \n",
    "        # Save the output data to output.json\n",
    "        with open(output_path, \"w\") as output_file:\n",
    "            json.dump(output_data, output_file, indent=4)\n",
    "        \n",
    "        print(f\"Output data successfully saved to {output_path}\")\n",
    "    else:\n",
    "        print(\"No 'output' field found in proof.json\")\n",
    "except Exception as e:\n",
    "    print(f\"An error occurred: {e}\")"
   ]
  },
  {
   "cell_type": "code",
   "execution_count": null,
   "id": "35d4244b-210e-4bb2-ada0-8d212cf303d6",
   "metadata": {},
   "outputs": [],
   "source": [
    "# Command for proof verification\n",
    "cmd = [\n",
    "    \"../../target/release/mina-zkml-cli\", \"verify\",\n",
    "    \"-m\", onnx_path,\n",
    "    \"-i\", data_path,\n",
    "    \"-p\", proof_path,\n",
    "    \"-o\", output_path,\n",
    "    \"--input-visibility\", \"public\",\n",
    "    \"--output-visibility\", \"public\"\n",
    "]\n",
    "\n",
    "# Run the CLI command\n",
    "result = subprocess.run(cmd, stdout=subprocess.PIPE, stderr=subprocess.PIPE, text=True)\n",
    "print(result.stdout)\n",
    "if result.returncode == 0:\n",
    "    print(f\"Proof successfully verified at {proof_path}\")\n",
    "else:\n",
    "    print(f\"Error verifying proof: {result.stderr}\")\n"
   ]
  },
  {
   "cell_type": "code",
   "execution_count": null,
   "id": "ed705083-130a-4f72-be8a-be4cae622d86",
   "metadata": {},
   "outputs": [],
   "source": []
  }
 ],
 "metadata": {
  "kernelspec": {
   "display_name": "Python 3 (ipykernel)",
   "language": "python",
   "name": "python3"
  },
  "language_info": {
   "codemirror_mode": {
    "name": "ipython",
    "version": 3
   },
   "file_extension": ".py",
   "mimetype": "text/x-python",
   "name": "python",
   "nbconvert_exporter": "python",
   "pygments_lexer": "ipython3",
   "version": "3.12.1"
  }
 },
 "nbformat": 4,
 "nbformat_minor": 5
}
