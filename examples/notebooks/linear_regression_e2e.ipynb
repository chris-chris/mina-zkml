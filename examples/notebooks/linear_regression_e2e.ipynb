{
 "cells": [
  {
   "cell_type": "markdown",
   "metadata": {},
   "source": [
    "# Linear Regression Example with MINA-ZKML"
   ]
  },
  {
   "cell_type": "code",
   "execution_count": null,
   "metadata": {},
   "outputs": [],
   "source": [
    "# Install required Python libraries\n",
    "try:\n",
    "    import subprocess\n",
    "    subprocess.check_call([\"pip\", \"install\", \"torch\", \"onnx\", \"numpy\", \"sklearn\", \"hummingbird-ml\"])\n",
    "except:\n",
    "    print(\"Ensure all dependencies are installed.\")"
   ]
  },
  {
   "cell_type": "code",
   "execution_count": null,
   "metadata": {},
   "outputs": [],
   "source": [
    "from sklearn.linear_model import LinearRegression\n",
    "from hummingbird.ml import convert\n",
    "import numpy as np\n",
    "import json\n",
    "import torch\n",
    "from sklearn.datasets import fetch_california_housing\n",
    "\n",
    "# Load the housing price dataset\n",
    "housing = fetch_california_housing()\n",
    "X = housing.data\n",
    "y = housing.target\n",
    "\n",
    "# Train the model\n",
    "reg = LinearRegression().fit(X, y)\n",
    "print(f\"Model coefficients: {reg.coef_}\")\n",
    "print(f\"Model intercept: {reg.intercept_}\")"
   ]
  },
  {
   "cell_type": "code",
   "execution_count": null,
   "metadata": {},
   "outputs": [],
   "source": [
    "# Convert to PyTorch using Hummingbird\n",
    "model = convert(reg, \"torch\", X[:1]).model\n",
    "\n",
    "# Export to ONNX format\n",
    "onnx_path = \"models/linear_regression.onnx\"\n",
    "shape = X.shape[1:]\n",
    "dummy_input = torch.rand(1, *shape, requires_grad=True)\n",
    "\n",
    "torch.onnx.export(\n",
    "    model, \n",
    "    dummy_input, \n",
    "    onnx_path,\n",
    "    input_names=[\"input\"], \n",
    "    output_names=[\"output\"],\n",
    "    opset_version=13\n",
    ")\n",
    "print(f\"ONNX model exported to {onnx_path}\")"
   ]
  },
  {
   "cell_type": "markdown",
   "metadata": {},
   "source": [
    "## Installation and Configuration\n",
    "\n",
    "Now that we have our model trained and exported to ONNX format, let's set up the zkML verification system. First, we'll install and configure the Mina zkApp CLI:"
   ]
  },
  {
   "cell_type": "code",
   "execution_count": null,
   "metadata": {},
   "outputs": [],
   "source": [
    "# Install Mina zkApp CLI\n",
    "!npm install -g zkapp-cli\n",
    "\n",
    "# Install project dependencies\n",
    "!npm install\n",
    "\n",
    "print(\"Dependencies installed successfully\")"
   ]
  },
  {
   "cell_type": "markdown",
   "metadata": {},
   "source": [
    "### Configure Mina zkApp\n",
    "\n",
    "Now we'll set up the zkApp configuration. Run each step and follow the prompts:\n",
    "\n",
    "1. Initialize zkApp configuration with interactive prompts:\n",
    "   - Name: Choose 'devnet'\n",
    "   - Network: Choose 'Testnet'\n",
    "   - API URL: Use 'https://api.minascan.io/node/devnet/v1/graphql'\n",
    "   - Fee: Set to 0.1 MINA\n",
    "   - Account: Choose or create a fee payer account\n",
    "\n",
    "After configuration, you'll need to request testnet MINA from the faucet before deployment."
   ]
  },
  {
   "cell_type": "code",
   "execution_count": null,
   "metadata": {},
   "outputs": [],
   "source": [
    "# Initialize zkApp configuration\n",
    "!zk config\n",
    "\n",
    "print(\"\\nAfter configuration:\")\n",
    "print(\"1. Note your fee payer account public key from the output above\")\n",
    "print(\"2. Visit https://faucet.minaprotocol.com/?address=<YOUR-FEE-PAYER-ACCOUNT>\")\n",
    "print(\"3. Select 'Devnet' network and request funds\")\n",
    "print(\"4. Wait a few minutes for the transaction to be included in a block\")"
   ]
  },
  {
   "cell_type": "markdown",
   "metadata": {},
   "source": [
    "### Model Configuration\n",
    "\n",
    "While waiting for the testnet funds, let's create our model configuration:"
   ]
  },
  {
   "cell_type": "code",
   "execution_count": null,
   "metadata": {},
   "outputs": [],
   "source": [
    "# Create model configuration\n",
    "model_config = {\n",
    "    \"modelConfig\": {\n",
    "        \"modelPath\": \"models/linear_regression.onnx\",\n",
    "        \"variables\": {\n",
    "            \"batch_size\": 1\n",
    "        },\n",
    "        \"visibility\": {\n",
    "            \"input\": \"Public\",\n",
    "            \"output\": \"Private\"\n",
    "        },\n",
    "        \"defaultInput\": [sample_input.flatten().tolist()]  # Using our sample input from the dataset\n",
    "    }\n",
    "}\n",
    "\n",
    "with open(\"modelConfig.json\", \"w\") as f:\n",
    "    json.dump(model_config, f, indent=2)\n",
    "\n",
    "# Save sample input data for verification\n",
    "sample_data = {\n",
    "    \"input\": X[0].tolist()  # Using first sample from training data\n",
    "}\n",
    "\n",
    "with open(\"sample_data.json\", \"w\") as f:\n",
    "    json.dump(sample_data, f, indent=2)\n",
    "\n",
    "print(\"Model and sample data configurations created successfully\")"
   ]
  },
  {
   "cell_type": "markdown",
   "metadata": {},
   "source": [
    "## Generating and Verifying Proofs\n",
    "\n",
    "Let's generate a proof using our trained model:"
   ]
  },
  {
   "cell_type": "code",
   "execution_count": null,
   "metadata": {},
   "outputs": [],
   "source": [
    "# Generate proof using generateProof.js\n",
    "# This will use the defaultInput from modelConfig.json\n",
    "!node generateProof.js models/linear_regression.onnx\n",
    "\n",
    "print(\"Proof generation completed\")\n",
    "\n",
    "# Save proof data to output.json\n",
    "!mv proof_data.json output.json"
   ]
  },
  {
   "cell_type": "markdown",
   "metadata": {},
   "source": [
    "## Using the API Service\n",
    "\n",
    "Now let's verify our proof using the API service:"
   ]
  },
  {
   "cell_type": "code",
   "execution_count": null,
   "metadata": {},
   "outputs": [],
   "source": [
    "# Create TypeScript verification script\n",
    "verify_script = \"\"\"\n",
    "import axios, { AxiosError } from 'axios';\n",
    "import fs from 'fs';\n",
    "\n",
    "interface ProofResponse {\n",
    "  status: string;\n",
    "  transactionUrl?: string;\n",
    "  error?: string;\n",
    "}\n",
    "\n",
    "interface SampleData {\n",
    "  input: number[];\n",
    "}\n",
    "\n",
    "const proofPath = 'output.json';\n",
    "const sampleDataPath = 'sample_data.json';\n",
    "\n",
    "async function testProofVerification() {\n",
    "  try {\n",
    "    // Read the proof data and sample input\n",
    "    const proofData = await fs.readFileSync(proofPath, 'utf8');\n",
    "    const sampleData: SampleData = JSON.parse(await fs.readFileSync(sampleDataPath, 'utf8'));\n",
    "\n",
    "    // Send verification request with actual training data\n",
    "    const response = await axios.post<ProofResponse>(\n",
    "      'http://localhost:3000/api/verify-proof', \n",
    "      {\n",
    "        proofData: proofData,\n",
    "        publicInput: [sampleData.input]  // Using actual training data\n",
    "      }\n",
    "    );\n",
    "\n",
    "    console.log('Proof verification result:', response.data);\n",
    "  } catch (error) {\n",
    "    if (axios.isAxiosError(error)) {\n",
    "      const axiosError = error as AxiosError<ProofResponse>;\n",
    "      console.error('Proof verification failed:', axiosError.response?.data);\n",
    "    } else if (error instanceof Error) {\n",
    "      console.error('Error:', error.message);\n",
    "    } else {\n",
    "      console.error('Unknown error occurred');\n",
    "    }\n",
    "  }\n",
    "}\n",
    "\n",
    "// Run the test\n",
    "testProofVerification();\n",
    "\"\"\"\n",
    "\n",
    "with open('verify.ts', 'w') as f:\n",
    "    f.write(verify_script)\n",
    "\n",
    "# Run verification script\n",
    "!node verify.ts"
   ]
  },
  {
   "cell_type": "markdown",
   "metadata": {},
   "source": [
    "## Smart Contract Integration\n",
    "\n",
    "Now let's create and deploy our verifier contract. Make sure you've received your testnet funds before proceeding with deployment."
   ]
  },
  {
   "cell_type": "code",
   "execution_count": null,
   "metadata": {},
   "outputs": [],
   "source": [
    "# Create smart contract\n",
    "contract_code = \"\"\"\n",
    "import { ZKMLVerifier, ZKMLProofData } from 'zkml-verifier';\n",
    "\n",
    "export class CustomVerifier extends ZKMLVerifier {\n",
    "    @method async verifyModelPrediction(proofData: ZKMLProofData) {\n",
    "        // Set up verifier\n",
    "        this.setVerifierSystem(proofData.verifierSystem);\n",
    "        this.setProofData(proofData.proof);\n",
    "        \n",
    "        // Verify the proof\n",
    "        const isValid = await this.verifyProof();\n",
    "        isValid.assertTrue();\n",
    "    }\n",
    "}\n",
    "\"\"\"\n",
    "\n",
    "with open('CustomVerifier.ts', 'w') as f:\n",
    "    f.write(contract_code)\n",
    "\n",
    "# Compile contract\n",
    "!npx tsc CustomVerifier.ts\n",
    "\n",
    "print(\"Smart contract created and compiled successfully\")"
   ]
  },
  {
   "cell_type": "code",
   "execution_count": null,
   "metadata": {},
   "outputs": [],
   "source": [
    "# Deploy contract to Mina devnet\n",
    "# Make sure you've received your testnet funds before running this\n",
    "!zk deploy devnet\n",
    "\n",
    "print(\"\\nContract deployment status:\")\n",
    "print(\"1. Check the transaction hash in the output above\")\n",
    "print(\"2. View your deployment on https://minascan.io/devnet/tx/<TRANSACTION-HASH>\")\n",
    "print(\"3. Wait for the transaction to be included in a block (usually a few minutes)\")"
   ]
  }
 ],
 "metadata": {
  "kernelspec": {
   "display_name": "Python 3",
   "language": "python",
   "name": "python3"
  },
  "language_info": {
   "name": "python",
   "version": "3.8"
  }
 },
 "nbformat": 4,
 "nbformat_minor": 4
}
